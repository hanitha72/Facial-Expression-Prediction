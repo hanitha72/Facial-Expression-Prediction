{
 "cells": [
  {
   "cell_type": "markdown",
   "metadata": {},
   "source": [
    "<h1 align=center>  Predictions\n"
   ]
  },
  {
   "cell_type": "code",
   "execution_count": 1,
   "metadata": {},
   "outputs": [
    {
     "name": "stderr",
     "output_type": "stream",
     "text": [
      "Using TensorFlow backend.\n",
      "C:\\Users\\hanit\\anaconda3\\lib\\site-packages\\tensorflow\\python\\framework\\dtypes.py:516: FutureWarning: Passing (type, 1) or '1type' as a synonym of type is deprecated; in a future version of numpy, it will be understood as (type, (1,)) / '(1,)type'.\n",
      "  _np_qint8 = np.dtype([(\"qint8\", np.int8, 1)])\n",
      "C:\\Users\\hanit\\anaconda3\\lib\\site-packages\\tensorflow\\python\\framework\\dtypes.py:517: FutureWarning: Passing (type, 1) or '1type' as a synonym of type is deprecated; in a future version of numpy, it will be understood as (type, (1,)) / '(1,)type'.\n",
      "  _np_quint8 = np.dtype([(\"quint8\", np.uint8, 1)])\n",
      "C:\\Users\\hanit\\anaconda3\\lib\\site-packages\\tensorflow\\python\\framework\\dtypes.py:518: FutureWarning: Passing (type, 1) or '1type' as a synonym of type is deprecated; in a future version of numpy, it will be understood as (type, (1,)) / '(1,)type'.\n",
      "  _np_qint16 = np.dtype([(\"qint16\", np.int16, 1)])\n",
      "C:\\Users\\hanit\\anaconda3\\lib\\site-packages\\tensorflow\\python\\framework\\dtypes.py:519: FutureWarning: Passing (type, 1) or '1type' as a synonym of type is deprecated; in a future version of numpy, it will be understood as (type, (1,)) / '(1,)type'.\n",
      "  _np_quint16 = np.dtype([(\"quint16\", np.uint16, 1)])\n",
      "C:\\Users\\hanit\\anaconda3\\lib\\site-packages\\tensorflow\\python\\framework\\dtypes.py:520: FutureWarning: Passing (type, 1) or '1type' as a synonym of type is deprecated; in a future version of numpy, it will be understood as (type, (1,)) / '(1,)type'.\n",
      "  _np_qint32 = np.dtype([(\"qint32\", np.int32, 1)])\n",
      "C:\\Users\\hanit\\anaconda3\\lib\\site-packages\\tensorflow\\python\\framework\\dtypes.py:525: FutureWarning: Passing (type, 1) or '1type' as a synonym of type is deprecated; in a future version of numpy, it will be understood as (type, (1,)) / '(1,)type'.\n",
      "  np_resource = np.dtype([(\"resource\", np.ubyte, 1)])\n",
      "C:\\Users\\hanit\\anaconda3\\lib\\site-packages\\tensorboard\\compat\\tensorflow_stub\\dtypes.py:541: FutureWarning: Passing (type, 1) or '1type' as a synonym of type is deprecated; in a future version of numpy, it will be understood as (type, (1,)) / '(1,)type'.\n",
      "  _np_qint8 = np.dtype([(\"qint8\", np.int8, 1)])\n",
      "C:\\Users\\hanit\\anaconda3\\lib\\site-packages\\tensorboard\\compat\\tensorflow_stub\\dtypes.py:542: FutureWarning: Passing (type, 1) or '1type' as a synonym of type is deprecated; in a future version of numpy, it will be understood as (type, (1,)) / '(1,)type'.\n",
      "  _np_quint8 = np.dtype([(\"quint8\", np.uint8, 1)])\n",
      "C:\\Users\\hanit\\anaconda3\\lib\\site-packages\\tensorboard\\compat\\tensorflow_stub\\dtypes.py:543: FutureWarning: Passing (type, 1) or '1type' as a synonym of type is deprecated; in a future version of numpy, it will be understood as (type, (1,)) / '(1,)type'.\n",
      "  _np_qint16 = np.dtype([(\"qint16\", np.int16, 1)])\n",
      "C:\\Users\\hanit\\anaconda3\\lib\\site-packages\\tensorboard\\compat\\tensorflow_stub\\dtypes.py:544: FutureWarning: Passing (type, 1) or '1type' as a synonym of type is deprecated; in a future version of numpy, it will be understood as (type, (1,)) / '(1,)type'.\n",
      "  _np_quint16 = np.dtype([(\"quint16\", np.uint16, 1)])\n",
      "C:\\Users\\hanit\\anaconda3\\lib\\site-packages\\tensorboard\\compat\\tensorflow_stub\\dtypes.py:545: FutureWarning: Passing (type, 1) or '1type' as a synonym of type is deprecated; in a future version of numpy, it will be understood as (type, (1,)) / '(1,)type'.\n",
      "  _np_qint32 = np.dtype([(\"qint32\", np.int32, 1)])\n",
      "C:\\Users\\hanit\\anaconda3\\lib\\site-packages\\tensorboard\\compat\\tensorflow_stub\\dtypes.py:550: FutureWarning: Passing (type, 1) or '1type' as a synonym of type is deprecated; in a future version of numpy, it will be understood as (type, (1,)) / '(1,)type'.\n",
      "  np_resource = np.dtype([(\"resource\", np.ubyte, 1)])\n"
     ]
    }
   ],
   "source": [
    "#Loading libraries\n",
    "from keras.models import load_model\n",
    "from time import sleep\n",
    "from keras.preprocessing.image import img_to_array\n",
    "from keras.preprocessing import image\n",
    "import cv2\n",
    "import numpy as np"
   ]
  },
  {
   "cell_type": "code",
   "execution_count": 2,
   "metadata": {},
   "outputs": [
    {
     "name": "stdout",
     "output_type": "stream",
     "text": [
      "WARNING:tensorflow:From C:\\Users\\hanit\\anaconda3\\lib\\site-packages\\keras\\backend\\tensorflow_backend.py:4070: The name tf.nn.max_pool is deprecated. Please use tf.nn.max_pool2d instead.\n",
      "\n",
      "WARNING:tensorflow:From C:\\Users\\hanit\\anaconda3\\lib\\site-packages\\keras\\backend\\tensorflow_backend.py:422: The name tf.global_variables is deprecated. Please use tf.compat.v1.global_variables instead.\n",
      "\n"
     ]
    }
   ],
   "source": [
    "face_classifier = cv2.CascadeClassifier(r'C:\\Users\\hanit\\OneDrive\\Desktop\\Hanitha\\CNN\\images\\haarcascade_frontalface_default.xml')\n",
    "\n",
    "#Load the created model during training which has learned weights and learning rate\n",
    "classifier =load_model(r'C:\\Users\\hanit\\OneDrive\\Desktop\\Hanitha\\CNN\\Emotion_little_vgg.h5')\n",
    "\n",
    "#Naming class labels as it is there in training file\n",
    "class_labels = ['Angry','disgust','fear','Happy','Neutral','Sad','Surprise']\n",
    "\n",
    "#For live video capturing\n",
    "cap = cv2.VideoCapture(0)"
   ]
  },
  {
   "cell_type": "markdown",
   "metadata": {},
   "source": [
    "### Defining function for image reading and video capturing"
   ]
  },
  {
   "cell_type": "code",
   "execution_count": 3,
   "metadata": {},
   "outputs": [],
   "source": [
    "def PredictResult(isVideo=True,exp_frame=None):\n",
    "    if isVideo:\n",
    "        cap = cv2.VideoCapture(0)\n",
    "        while cap.isOpened():\n",
    "            # Grab a single frame of video\n",
    "            ret, frame = cap.read()\n",
    "            labels = []\n",
    "            Category_Box(frame)\n",
    "            cv2.imshow('Emotion Detector',frame)\n",
    "            if cv2.waitKey(1) & 0xFF == ord('q'):\n",
    "                break\n",
    "        print(\"Camera closed\")\n",
    "        cap.release()\n",
    "        cv2.destroyAllWindows()\n",
    "    else:\n",
    "        Category_Box(exp_frame)\n",
    "        cv2.namedWindow('Emotion Detector', cv2.WINDOW_NORMAL)        \n",
    "        cv2.imshow('Emotion Detector',exp_frame)\n",
    "        cv2.waitKey(0)\n",
    "        cv2.destroyWindow('Emotion Detector')"
   ]
  },
  {
   "cell_type": "markdown",
   "metadata": {},
   "source": [
    "### Define a function for drawing bounding box around Region Of Interest(roi)"
   ]
  },
  {
   "cell_type": "code",
   "execution_count": 4,
   "metadata": {},
   "outputs": [],
   "source": [
    "def Category_Box(frame):\n",
    "        gray = cv2.cvtColor(frame,cv2.COLOR_BGR2GRAY)\n",
    "        \n",
    "        faces = face_classifier.detectMultiScale(gray,1.3,5)\n",
    "        for (x,y,w,h) in faces:\n",
    "                    cv2.rectangle(frame,(x,y),(x+w,y+h),(255,0,0),2)\n",
    "                    roi_gray = gray[y:y+h,x:x+w]\n",
    "                    roi_gray = cv2.resize(roi_gray,(48,48),interpolation=cv2.INTER_AREA)\n",
    "                # rect,face,image = face_detector(frame)\n",
    "\n",
    "\n",
    "                    if np.sum([roi_gray])!=0:\n",
    "                        roi = roi_gray.astype('float')/255.0\n",
    "                        roi = img_to_array(roi)\n",
    "                        roi = np.expand_dims(roi,axis=0)\n",
    "\n",
    "                    # make a prediction on the ROI, then lookup the class\n",
    "\n",
    "                        preds = classifier.predict(roi)[0]\n",
    "                        label=class_labels[preds.argmax()]\n",
    "                        label_position = (x,y)\n",
    "                        cv2.putText(frame,label,label_position,cv2.FONT_HERSHEY_SIMPLEX,2,(0,255,0),3)\n",
    "                    else:\n",
    "                        cv2.putText(frame,'No Face Found',(20,60),cv2.FONT_HERSHEY_SIMPLEX,2,(0,255,0),3)    "
   ]
  },
  {
   "cell_type": "markdown",
   "metadata": {},
   "source": [
    "## Predictions"
   ]
  },
  {
   "cell_type": "markdown",
   "metadata": {},
   "source": [
    "### For a picture"
   ]
  },
  {
   "cell_type": "code",
   "execution_count": 5,
   "metadata": {},
   "outputs": [
    {
     "name": "stdout",
     "output_type": "stream",
     "text": [
      "Image shape: (280, 390, 3)\n",
      "Image height=280 and width=390\n"
     ]
    },
    {
     "data": {
      "text/plain": [
       "True"
      ]
     },
     "execution_count": 5,
     "metadata": {},
     "output_type": "execute_result"
    }
   ],
   "source": [
    "imageFrame = cv2.imread(r'C:\\Users\\hanit\\OneDrive\\Desktop\\Hanitha\\CNN\\happy.jpg')\n",
    "print('Image shape:', imageFrame.shape)  # tuple of (511, 767, 3)\n",
    "\n",
    "# Getting spatial dimension of input image\n",
    "h, w = imageFrame.shape[:2]  # Slicing from tuple only first two elements\n",
    "# Check point\n",
    "# Showing height an width of image\n",
    "print('Image height={0} and width={1}'.format(h, w))  # 511 767\n",
    "PredictResult(False,imageFrame)\n",
    "save = PredictResult\n",
    "\n",
    "cv2.imwrite(r'C:\\Users\\hanit\\OneDrive\\Desktop\\Hanitha\\CNN\\Test-imageResult.jpg', imageFrame)"
   ]
  },
  {
   "cell_type": "markdown",
   "metadata": {},
   "source": [
    "### For bunch of pictures"
   ]
  },
  {
   "cell_type": "markdown",
   "metadata": {},
   "source": [
    "* The test images are listed in an array\n",
    "* Created a folder called 'output' to store the resulted predicted image"
   ]
  },
  {
   "cell_type": "code",
   "execution_count": 19,
   "metadata": {},
   "outputs": [],
   "source": [
    "imagearray = ['image1.jpg','image2.jpg','image3.jpg','image4.jpg','image5.jpg','image6.jpg','image7.jpg']"
   ]
  },
  {
   "cell_type": "code",
   "execution_count": 22,
   "metadata": {},
   "outputs": [
    {
     "name": "stdout",
     "output_type": "stream",
     "text": [
      "Image shape: (955, 1300, 3)\n",
      "Image height=955 and width=1300\n",
      "Image shape: (530, 800, 3)\n",
      "Image height=530 and width=800\n",
      "Image shape: (665, 1000, 3)\n",
      "Image height=665 and width=1000\n",
      "Image shape: (280, 390, 3)\n",
      "Image height=280 and width=390\n",
      "Image shape: (360, 360, 3)\n",
      "Image height=360 and width=360\n",
      "Image shape: (280, 352, 3)\n",
      "Image height=280 and width=352\n",
      "Image shape: (234, 300, 3)\n",
      "Image height=234 and width=300\n"
     ]
    }
   ],
   "source": [
    "for image in imagearray:    \n",
    "    imageFrame = cv2.imread(f'C:\\\\Users\\hanit\\OneDrive\\Desktop\\Hanitha\\CNN\\{image}')\n",
    "    print('Image shape:', imageFrame.shape)  # tuple of (511, 767, 3)\n",
    "\n",
    "    # Getting spatial dimension of input image\n",
    "    h, w = imageFrame.shape[:2]  # Slicing from tuple only first two elements\n",
    "    # Check point\n",
    "    # Showing height an width of image\n",
    "    print('Image height={0} and width={1}'.format(h, w))  # 511 767\n",
    "    PredictResult(False,imageFrame)\n",
    "    save = PredictResult\n",
    "\n",
    "    cv2.imwrite(f'C:\\\\Users\\hanit\\OneDrive\\Desktop\\Hanitha\\CNN\\output\\{image}', imageFrame)"
   ]
  },
  {
   "cell_type": "markdown",
   "metadata": {},
   "source": [
    "## Live video"
   ]
  },
  {
   "cell_type": "code",
   "execution_count": 8,
   "metadata": {},
   "outputs": [
    {
     "name": "stdout",
     "output_type": "stream",
     "text": [
      "Camera closed\n"
     ]
    }
   ],
   "source": [
    "PredictResult(True)"
   ]
  },
  {
   "cell_type": "markdown",
   "metadata": {},
   "source": [
    "<h3 align= center > Enjoy With Emotions"
   ]
  },
  {
   "attachments": {
    "download.jpg": {
     "image/jpeg": "[encoded data removed]"
    }
   },
   "cell_type": "markdown",
   "metadata": {},
   "source": [
    "![download.jpg](attachment:download.jpg)"
   ]
  }
 ],
 "metadata": {
  "kernelspec": {
   "display_name": "Python 3",
   "language": "python",
   "name": "python3"
  },
  "language_info": {
   "codemirror_mode": {
    "name": "ipython",
    "version": 3
   },
   "file_extension": ".py",
   "mimetype": "text/x-python",
   "name": "python",
   "nbconvert_exporter": "python",
   "pygments_lexer": "ipython3",
   "version": "3.7.6"
  }
 },
 "nbformat": 4,
 "nbformat_minor": 4
}
